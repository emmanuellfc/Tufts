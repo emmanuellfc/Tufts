{
  "cells": [
    {
      "cell_type": "markdown",
      "metadata": {
        "id": "J53wKLEdh01x"
      },
      "source": [
        "# Dropping a ball\n",
        "Written by Tim Atherton for Computational Physics\n",
        "January 18, 2024\n",
        "\n",
        "This program aims to simulate the motion of a ball dropped from an initial height of $y0$ under gravity $g$ using the Euler discretization.\n",
        "\n",
        "(If you like to see a notebook with a list of example operations you can do with Python, click on this [link](https://cs231n.github.io/python-numpy-tutorial/) or a [copy Taritree's my Google drive](https://colab.research.google.com/drive/11S4MaG56MFRGwyuN_z4TITobchEQQ3nf?usp=sharing).)"
      ]
    },
    {
      "cell_type": "markdown",
      "metadata": {
        "id": "l-c5L3Aih01x"
      },
      "source": [
        "Import libraries for plotting and numerical work"
      ]
    },
    {
      "cell_type": "code",
      "execution_count": 1,
      "metadata": {
        "id": "ZWto9KIEh01y"
      },
      "outputs": [],
      "source": [
        "import matplotlib.pyplot as plt\n",
        "import numpy as np"
      ]
    },
    {
      "cell_type": "markdown",
      "metadata": {
        "id": "rVGmsyosh01z"
      },
      "source": [
        "Set up parameters for the calculation"
      ]
    },
    {
      "cell_type": "code",
      "execution_count": 2,
      "metadata": {
        "id": "Qs38oBrlh010"
      },
      "outputs": [],
      "source": [
        "g = 9.8 #Gravity constant in (metres per second sq.)\n",
        "\n",
        "y0=0 #Initial Height (in metres) Positive means upwards\n",
        "v0=0 #Initial Velocity (in metres per second)\n",
        "t0=0 #Initial Time (in s)\n",
        "\n",
        "dt=0.1 #Time resolution\n",
        "tf=10 #Total time to simulate\n",
        "\n",
        "nsteps=int(tf/dt)+1 #note that we take the integer part"
      ]
    },
    {
      "cell_type": "markdown",
      "metadata": {
        "id": "q8Gm_-Oeh010"
      },
      "source": [
        "Create arrays for time, velocity and position"
      ]
    },
    {
      "cell_type": "code",
      "execution_count": 3,
      "metadata": {
        "id": "hXr6abTLh011"
      },
      "outputs": [],
      "source": [
        "t = np.linspace(t0,tf,nsteps)\n",
        "v = np.zeros([nsteps])\n",
        "y = np.zeros([nsteps])"
      ]
    },
    {
      "cell_type": "markdown",
      "metadata": {
        "id": "1dXkSbyOh012"
      },
      "source": [
        "Main loop, where we successively update velocity and time according to the Euler rule"
      ]
    },
    {
      "cell_type": "code",
      "execution_count": 18,
      "metadata": {},
      "outputs": [],
      "source": [
        "def solver_no_drag(y0,v0, steps):\n",
        "    v = np.zeros([steps])\n",
        "    y = np.zeros([steps])\n",
        "    y[0]=y0\n",
        "    v[0]=v0\n",
        "    for i in range(1,steps):\n",
        "        v[i] = v[i-1] - 0.1*g # Should be dt*Force/mass\n",
        "        y[i] = y[i-1] + v[i]*dt\n",
        "    return y, v"
      ]
    },
    {
      "cell_type": "code",
      "execution_count": 21,
      "metadata": {},
      "outputs": [],
      "source": [
        "def solver_with_drag(y0,v0, steps, m1, rho, area, c_d):\n",
        "    v_m1 = np.zeros([steps])\n",
        "    y_m1 = np.zeros([steps])\n",
        "    y_m1[0]=y0\n",
        "    v_m1[0]=v0\n",
        "    for i in range(1,nsteps):\n",
        "        v_m1[i]=v_m1[i-1]+(.5*(1/m1)*rho*area*c_d*v_m1[i-1]*v_m1[i-1] - g)*dt \n",
        "        y_m1[i]=y_m1[i-1]+v_m1[i]*dt\n",
        "    return y_m1, v_m1"
      ]
    },
    {
      "cell_type": "code",
      "execution_count": 19,
      "metadata": {},
      "outputs": [],
      "source": [
        "sol = solver_no_drag(y0, v0, nsteps)"
      ]
    },
    {
      "cell_type": "code",
      "execution_count": 22,
      "metadata": {},
      "outputs": [],
      "source": [
        "m1=2.7*10**-3 #mass of ping pong ball in kg\n",
        "c_d=.45\n",
        "rho=1\n",
        "area= 1.26*10**-3 #cross sectional area of ping pong ball in m^2\n",
        "sol1 = solver_with_drag(y0,v0, nsteps, m1, rho, area, c_d)"
      ]
    },
    {
      "cell_type": "code",
      "execution_count": 17,
      "metadata": {},
      "outputs": [
        {
          "data": {
            "image/png": "[encoded data removed]",
            "text/plain": [
              "<Figure size 640x480 with 1 Axes>"
            ]
          },
          "metadata": {},
          "output_type": "display_data"
        }
      ],
      "source": [
        "plt.plot(t,y_sol)\n",
        "plt.title('Trajectory of the ball without drag')\n",
        "plt.xlabel('Time /s')\n",
        "plt.ylabel('Height /m')\n",
        "plt.show()"
      ]
    },
    {
      "cell_type": "code",
      "execution_count": 6,
      "metadata": {
        "id": "MpjeYiCLh012"
      },
      "outputs": [],
      "source": [
        "y[0]=y0\n",
        "v[0]=v0\n",
        "for i in range(1,nsteps):\n",
        "    v[i]=v[i-1]-0.1*g # Should be dt*Force/mass\n",
        "    y[i]=y[i-1]+v[i]*dt"
      ]
    },
    {
      "cell_type": "markdown",
      "metadata": {
        "id": "rkk13ymmh012"
      },
      "source": [
        "Visualize the result"
      ]
    },
    {
      "cell_type": "code",
      "execution_count": null,
      "metadata": {
        "colab": {
          "base_uri": "https://localhost:8080/",
          "height": 472
        },
        "id": "Wy9tA7dIh013",
        "outputId": "218c919e-20a6-42cc-8913-408952f0e253"
      },
      "outputs": [],
      "source": [
        "plt.plot(t,y)\n",
        "plt.title('Trajectory of the ball without drag')\n",
        "plt.xlabel('Time /s')\n",
        "plt.ylabel('Height /m')\n",
        "plt.show()"
      ]
    },
    {
      "cell_type": "code",
      "execution_count": 65,
      "metadata": {},
      "outputs": [
        {
          "name": "stdout",
          "output_type": "stream",
          "text": [
            "1\n",
            "1.183673469387755\n",
            "2\n",
            "1.3673469387755102\n",
            "3\n",
            "1.5510204081632653\n",
            "4\n",
            "1.7346938775510203\n",
            "5\n",
            "1.9183673469387754\n",
            "6\n",
            "2.1020408163265305\n",
            "7\n",
            "2.2857142857142856\n",
            "8\n",
            "2.4693877551020407\n",
            "9\n",
            "2.6530612244897958\n",
            "10\n",
            "2.836734693877551\n",
            "11\n",
            "3.0204081632653064\n",
            "12\n",
            "3.2040816326530615\n",
            "13\n",
            "3.3877551020408165\n",
            "14\n",
            "3.5714285714285716\n",
            "15\n",
            "3.7551020408163267\n",
            "16\n",
            "3.938775510204082\n",
            "17\n",
            "4.122448979591837\n",
            "18\n",
            "4.3061224489795915\n",
            "19\n",
            "4.4897959183673475\n",
            "20\n",
            "4.673469387755102\n",
            "21\n",
            "4.857142857142858\n",
            "22\n",
            "5.040816326530613\n",
            "23\n",
            "5.224489795918368\n",
            "24\n",
            "5.408163265306123\n",
            "25\n",
            "5.591836734693878\n",
            "26\n",
            "5.775510204081633\n",
            "27\n",
            "5.959183673469388\n",
            "28\n",
            "6.142857142857143\n",
            "29\n",
            "6.326530612244898\n",
            "30\n",
            "6.510204081632653\n",
            "31\n",
            "6.6938775510204085\n",
            "32\n",
            "6.877551020408164\n",
            "33\n",
            "7.061224489795919\n",
            "34\n",
            "7.244897959183674\n",
            "35\n",
            "7.428571428571429\n",
            "36\n",
            "7.612244897959184\n",
            "37\n",
            "7.795918367346939\n",
            "38\n",
            "7.979591836734694\n",
            "39\n",
            "8.16326530612245\n",
            "40\n",
            "8.346938775510203\n",
            "41\n",
            "8.53061224489796\n",
            "42\n",
            "8.714285714285715\n",
            "43\n",
            "8.89795918367347\n",
            "44\n",
            "9.081632653061225\n",
            "45\n",
            "9.26530612244898\n",
            "46\n",
            "9.448979591836736\n",
            "47\n",
            "9.63265306122449\n",
            "48\n",
            "9.816326530612246\n",
            "49\n",
            "10.0\n"
          ]
        }
      ],
      "source": [
        "test = np.linspace(1,10,50)\n",
        "for i in range(1, len(test)):\n",
        "    print(i)\n",
        "    print(test[i])\n",
        "\n",
        "    np.append(y_array[i], sol[0])"
      ]
    },
    {
      "cell_type": "code",
      "execution_count": 62,
      "metadata": {},
      "outputs": [
        {
          "name": "stdout",
          "output_type": "stream",
          "text": [
            "[0.]\n",
            "[0.]\n",
            "[0.]\n",
            "[0.]\n",
            "[0.]\n",
            "[0.]\n",
            "[0.]\n",
            "[0.]\n",
            "[0.]\n",
            "[0.]\n",
            "[0.]\n",
            "[0.]\n",
            "[0.]\n",
            "[0.]\n",
            "[0.]\n",
            "[0.]\n",
            "[0.]\n",
            "[0.]\n",
            "[0.]\n",
            "[0.]\n",
            "[0.]\n",
            "[0.]\n",
            "[0.]\n",
            "[0.]\n",
            "[0.]\n",
            "[0.]\n",
            "[0.]\n",
            "[0.]\n",
            "[0.]\n",
            "[0.]\n",
            "[0.]\n",
            "[0.]\n",
            "[0.]\n",
            "[0.]\n",
            "[0.]\n",
            "[0.]\n",
            "[0.]\n",
            "[0.]\n",
            "[0.]\n",
            "[0.]\n",
            "[0.]\n",
            "[0.]\n",
            "[0.]\n",
            "[0.]\n",
            "[0.]\n",
            "[0.]\n",
            "[0.]\n",
            "[0.]\n",
            "[0.]\n"
          ]
        }
      ],
      "source": [
        "foo = np.zeros(shape=(50,1))\n",
        "for j,i in range(49):\n",
        "    print(foo[])"
      ]
    },
    {
      "cell_type": "code",
      "execution_count": 45,
      "metadata": {},
      "outputs": [
        {
          "ename": "IndexError",
          "evalue": "list index out of range",
          "output_type": "error",
          "traceback": [
            "\u001b[0;31m---------------------------------------------------------------------------\u001b[0m",
            "\u001b[0;31mIndexError\u001b[0m                                Traceback (most recent call last)",
            "Cell \u001b[0;32mIn[45], line 4\u001b[0m\n\u001b[1;32m      2\u001b[0m v_test \u001b[38;5;241m=\u001b[39m []\n\u001b[1;32m      3\u001b[0m \u001b[38;5;28;01mfor\u001b[39;00m i \u001b[38;5;129;01min\u001b[39;00m test:\n\u001b[0;32m----> 4\u001b[0m     \u001b[43my_test\u001b[49m\u001b[43m[\u001b[49m\u001b[38;5;241;43m1\u001b[39;49m\u001b[43m]\u001b[49m\u001b[38;5;241m.\u001b[39mappend(i)\n",
            "\u001b[0;31mIndexError\u001b[0m: list index out of range"
          ]
        }
      ],
      "source": [
        "y_test = [[], [], [], []]\n",
        "v_test = []\n",
        "for i in test:\n",
        "    y_test[i].append(i)"
      ]
    },
    {
      "cell_type": "code",
      "execution_count": 44,
      "metadata": {},
      "outputs": [
        {
          "data": {
            "text/plain": [
              "[np.float64(1.0),\n",
              " np.float64(1.183673469387755),\n",
              " np.float64(1.3673469387755102),\n",
              " np.float64(1.5510204081632653),\n",
              " np.float64(1.7346938775510203),\n",
              " np.float64(1.9183673469387754),\n",
              " np.float64(2.1020408163265305),\n",
              " np.float64(2.2857142857142856),\n",
              " np.float64(2.4693877551020407),\n",
              " np.float64(2.6530612244897958),\n",
              " np.float64(2.836734693877551),\n",
              " np.float64(3.0204081632653064),\n",
              " np.float64(3.2040816326530615),\n",
              " np.float64(3.3877551020408165),\n",
              " np.float64(3.5714285714285716),\n",
              " np.float64(3.7551020408163267),\n",
              " np.float64(3.938775510204082),\n",
              " np.float64(4.122448979591837),\n",
              " np.float64(4.3061224489795915),\n",
              " np.float64(4.4897959183673475),\n",
              " np.float64(4.673469387755102),\n",
              " np.float64(4.857142857142858),\n",
              " np.float64(5.040816326530613),\n",
              " np.float64(5.224489795918368),\n",
              " np.float64(5.408163265306123),\n",
              " np.float64(5.591836734693878),\n",
              " np.float64(5.775510204081633),\n",
              " np.float64(5.959183673469388),\n",
              " np.float64(6.142857142857143),\n",
              " np.float64(6.326530612244898),\n",
              " np.float64(6.510204081632653),\n",
              " np.float64(6.6938775510204085),\n",
              " np.float64(6.877551020408164),\n",
              " np.float64(7.061224489795919),\n",
              " np.float64(7.244897959183674),\n",
              " np.float64(7.428571428571429),\n",
              " np.float64(7.612244897959184),\n",
              " np.float64(7.795918367346939),\n",
              " np.float64(7.979591836734694),\n",
              " np.float64(8.16326530612245),\n",
              " np.float64(8.346938775510203),\n",
              " np.float64(8.53061224489796),\n",
              " np.float64(8.714285714285715),\n",
              " np.float64(8.89795918367347),\n",
              " np.float64(9.081632653061225),\n",
              " np.float64(9.26530612244898),\n",
              " np.float64(9.448979591836736),\n",
              " np.float64(9.63265306122449),\n",
              " np.float64(9.816326530612246),\n",
              " np.float64(10.0)]"
            ]
          },
          "execution_count": 44,
          "metadata": {},
          "output_type": "execute_result"
        }
      ],
      "source": [
        "y_test[0]"
      ]
    },
    {
      "cell_type": "code",
      "execution_count": null,
      "metadata": {},
      "outputs": [],
      "source": []
    }
  ],
  "metadata": {
    "colab": {
      "provenance": []
    },
    "kernelspec": {
      "display_name": "base",
      "language": "python",
      "name": "python3"
    },
    "language_info": {
      "codemirror_mode": {
        "name": "ipython",
        "version": 3
      },
      "file_extension": ".py",
      "mimetype": "text/x-python",
      "name": "python",
      "nbconvert_exporter": "python",
      "pygments_lexer": "ipython3",
      "version": "3.12.2"
    }
  },
  "nbformat": 4,
  "nbformat_minor": 0
}
