{
 "cells": [
  {
   "cell_type": "code",
   "execution_count": null,
   "id": "ac19e683-7f47-4a8a-a58b-e6508f529c1a",
   "metadata": {},
   "outputs": [],
   "source": [
    "class QMProblem:\n",
    "    \"\"\"\n",
    "    Initialize the QM solver\n",
    "        Parameters\n",
    "            - dt:\n",
    "            - dx:\n",
    "            - n:\n",
    "            - steps:\n",
    "    \"\"\"\n",
    "    def __init__(self, dt: float, dx: float, n: int, steps: int) -> None:\n",
    "        self.dt = dt\n",
    "        self.dx = dx\n",
    "        self.N = n\n",
    "        self.steps = steps\n",
    "        self.x = None\n",
    "        self.psi = None\n",
    "        self.psi_total = None\n",
    "        self.potential = None\n",
    "        self.hamiltonian = None\n",
    "\n",
    "    def make_Hamiltonian():\n",
    "        # Spatial grid\n",
    "        x = np.linspace(-N*dx, N*dx, N)\n",
    "\n",
    "        # Construct the Hamiltonian matrix (Complex Matrix)\n",
    "        c = -hbar**2 / (2 * m * dx**2)\n",
    "        self.hamiltonian = np.zeros((N, N), dtype=complex)\n",
    "        for i in range(1, N - 1):\n",
    "            H[i, i] = 2 * c + V[i]\n",
    "            H[i, i + 1] = -c\n",
    "            H[i, i - 1] = -c\n",
    "        \n",
    "        # Boundary Conditions\n",
    "        H[0,0] = 1e30\n",
    "        H[-1,-1] = 1e30\n",
    "        \n",
    "        # Identity matrix\n",
    "        I = np.identity(N, dtype=complex)\n",
    "\n",
    "    "
   ]
  }
 ],
 "metadata": {
  "kernelspec": {
   "display_name": "Python 3 (ipykernel)",
   "language": "python",
   "name": "python3"
  },
  "language_info": {
   "codemirror_mode": {
    "name": "ipython",
    "version": 3
   },
   "file_extension": ".py",
   "mimetype": "text/x-python",
   "name": "python",
   "nbconvert_exporter": "python",
   "pygments_lexer": "ipython3",
   "version": "3.13.2"
  }
 },
 "nbformat": 4,
 "nbformat_minor": 5
}
