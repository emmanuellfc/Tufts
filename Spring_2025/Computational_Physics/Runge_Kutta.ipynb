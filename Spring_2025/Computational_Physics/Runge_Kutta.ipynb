{
 "cells": [
  {
   "cell_type": "code",
   "execution_count": 1,
   "metadata": {},
   "outputs": [],
   "source": [
    "import numpy as np"
   ]
  },
  {
   "cell_type": "code",
   "execution_count": null,
   "metadata": {},
   "outputs": [],
   "source": [
    "# Runge Kutta Implementation\n",
    "# d^2 x/dt^2 = -g + Cv/m v^2\n",
    "# dv/dt = -g + Cv/m v^2\n",
    "# dy/dt = v\n"
   ]
  },
  {
   "cell_type": "code",
   "execution_count": null,
   "metadata": {},
   "outputs": [],
   "source": [
    "g = 9.8 #Gravity constant in (metres per second sq.)\n",
    "\n",
    "y0=0 #Initial Height (in metres) Positive means upwards\n",
    "v0=0 #Initial Velocity (in metres per second)\n",
    "t0=0 #Initial Time (in s)\n",
    "\n",
    "dt=0.1 #Time resolution\n",
    "tf=10 #Total time to simulate\n",
    "\n",
    "nsteps=int(tf/dt)+1 #note that we take the integer part\n",
    "t  = np.linspace(t0,tf,nsteps)\n",
    "\n",
    "Cv = 1.0;\n",
    "m  = 1.0;\n",
    "\n",
    "def k1(v, n):\n",
    "    return -g + (Cv/m)*(v[n]*v[n])\n",
    "\n",
    "def k2(v, n):\n",
    "    return -g + (Cv/m)*(v[n] + 0.5*k1(v,n))*(v[n] + 0.5*k1(v,n))\n",
    "\n",
    "def k3(v, n):\n",
    "    return -\n",
    "\n",
    "def k4(v, n):\n",
    "    return \n",
    "\n",
    "def runge_kutta(y0,v0, h, steps):\n",
    "    v = np.zeros([steps])\n",
    "    y = np.zeros([steps])\n",
    "    y[0] = y0\n",
    "    v[0] = v0\n",
    "    for i in range(1,steps):\n",
    "        v[i] = - 0.1*g + h/6 * (k1(v, i-1) + 2*k2(v, i-1) )\n",
    "        y[i] = y[i-1] + v[i]*dt\n",
    "    return y, v"
   ]
  },
  {
   "cell_type": "code",
   "execution_count": null,
   "metadata": {},
   "outputs": [],
   "source": [
    "k = -g + "
   ]
  },
  {
   "cell_type": "code",
   "execution_count": null,
   "metadata": {},
   "outputs": [],
   "source": []
  },
  {
   "cell_type": "code",
   "execution_count": null,
   "metadata": {},
   "outputs": [],
   "source": []
  },
  {
   "cell_type": "code",
   "execution_count": null,
   "metadata": {},
   "outputs": [],
   "source": []
  },
  {
   "cell_type": "code",
   "execution_count": null,
   "metadata": {},
   "outputs": [],
   "source": []
  },
  {
   "cell_type": "code",
   "execution_count": null,
   "metadata": {},
   "outputs": [],
   "source": []
  },
  {
   "cell_type": "code",
   "execution_count": null,
   "metadata": {},
   "outputs": [],
   "source": []
  },
  {
   "cell_type": "code",
   "execution_count": null,
   "metadata": {},
   "outputs": [],
   "source": []
  },
  {
   "cell_type": "code",
   "execution_count": null,
   "metadata": {},
   "outputs": [],
   "source": []
  }
 ],
 "metadata": {
  "kernelspec": {
   "display_name": "base",
   "language": "python",
   "name": "python3"
  },
  "language_info": {
   "codemirror_mode": {
    "name": "ipython",
    "version": 3
   },
   "file_extension": ".py",
   "mimetype": "text/x-python",
   "name": "python",
   "nbconvert_exporter": "python",
   "pygments_lexer": "ipython3",
   "version": "3.12.8"
  }
 },
 "nbformat": 4,
 "nbformat_minor": 2
}
