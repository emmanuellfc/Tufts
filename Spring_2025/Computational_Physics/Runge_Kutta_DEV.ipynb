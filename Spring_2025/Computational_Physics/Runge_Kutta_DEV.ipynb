{
  "nbformat": 4,
  "nbformat_minor": 0,
  "metadata": {
    "colab": {
      "provenance": []
    },
    "kernelspec": {
      "name": "python3",
      "display_name": "Python 3"
    },
    "language_info": {
      "name": "python"
    }
  },
  "cells": [
    {
      "cell_type": "code",
      "source": [
        "import numpy as np\n",
        "import matplotlib.pyplot as plt"
      ],
      "metadata": {
        "id": "C04WETLyZS2A"
      },
      "execution_count": 1,
      "outputs": []
    },
    {
      "cell_type": "code",
      "source": [
        "# # Runge-Kutta implementation as function\n",
        "# def rk4(f,t0,tN, N):\n",
        "#   \"\"\"\n",
        "#   Runge-Kutta 4th order implementation\n",
        "#   Parameters\n",
        "#   ----------\n",
        "#   f : Function\n",
        "#         Source function f(x,t)\n",
        "#   t0 : Float\n",
        "#         Initial time\n",
        "#   tN : Float\n",
        "#         Final time\n",
        "#   N : Integer\n",
        "#         Number of steps\n",
        "#   \"\"\"\n",
        "#   t = np.linspace(t0, tN, N)\n",
        "#   x = np.zeros(N)\n",
        "\n",
        "#   h = (tN-t0)/N\n",
        "#   for n in range(1,N):\n",
        "#     k1 = h*f(x[n-1]       , t[n-1]      )\n",
        "#     k2 = h*f(x[n-1] + k1/2, t[n-1] + h/2)\n",
        "#     k3 = h*f(x[n-1] + k2/2, t[n-1] + h/2)\n",
        "#     k4 = h*f(x[n-1] + k3  , t[n-1] + h  )\n",
        "\n",
        "#     x[n] = x[n-1] + (k1 + 2*k2 + 2*k3 + k4)/6\n",
        "#   return t, x\n",
        "\n",
        "# # Source function f(x,t)\n",
        "# def f(x_,t_):\n",
        "#   \"\"\"\n",
        "#   Source function f(x,t)\n",
        "#   Parameters\n",
        "#   ----------\n",
        "#   x_ : Float\n",
        "#         Value of x\n",
        "#   t_ : Float\n",
        "#         Value of t\n",
        "#   \"\"\"\n",
        "#   return np.cos(x_) + np.sin(t_)"
      ],
      "metadata": {
        "id": "Kx2C0iNidc0b"
      },
      "execution_count": 2,
      "outputs": []
    },
    {
      "cell_type": "code",
      "source": [
        "# solver = rk4(f, 0,10.0, 100)"
      ],
      "metadata": {
        "id": "O0OGjCKXeUut"
      },
      "execution_count": 3,
      "outputs": []
    },
    {
      "cell_type": "code",
      "source": [
        "# plt.figure(figsize=(10,6))\n",
        "# plt.plot(solver[0],solver[1])\n",
        "# plt.show()"
      ],
      "metadata": {
        "id": "j9kAAeImeleG"
      },
      "execution_count": 4,
      "outputs": []
    },
    {
      "cell_type": "code",
      "source": [
        "# Define function that incorporates a a quadratic term as a drag\n",
        "g = 9.8\n",
        "c_d=.45\n",
        "rho=1\n",
        "area= 1.26*10**-3 #cross sectional area of ping pong ball in m^2\n",
        "mass=2.7*10**-3 #mass of ping pong ball in kg\n",
        "gamma = .5*(1/mass)*rho*area*c_d\n",
        "\n",
        "def drag(v_):\n",
        "  \"\"\"\n",
        "  Function that incorporates a quadratic term as a drag\n",
        "  Parameters\n",
        "  ----------\n",
        "  v_ : Float\n",
        "        Value of v\n",
        "  g : Float\n",
        "        Value of g\n",
        "  \"\"\"\n",
        "  return gamma*np.square(v_) - g\n",
        "\n",
        "# Implementing solver as a function\n",
        "def rk4_drag(f,t0,tN, N):\n",
        "  \"\"\"\n",
        "  Runge-Kutta Implementation:\n",
        "\n",
        "  \"\"\"\n",
        "  t = np.linspace(t0, tN, N)\n",
        "  v = np.zeros(N)\n",
        "  y = np.zeros(N)\n",
        "  h = (tN-t0)/N\n",
        "  for n in range(1,N):\n",
        "    k1 = h*f(v[n-1]       )\n",
        "    k2 = h*f(v[n-1] + k1/2)\n",
        "    k3 = h*f(v[n-1] + k2/2)\n",
        "    k4 = h*f(v[n-1] + k3  )\n",
        "\n",
        "    v[n] = v[n-1] + (k1 + 2*k2 + 2*k3 + k4)/6\n",
        "    y[n] = y[n-1] + v[n]*h\n",
        "  return t, y, v"
      ],
      "metadata": {
        "id": "7ti8u8-Vgru_"
      },
      "execution_count": 5,
      "outputs": []
    },
    {
      "cell_type": "code",
      "source": [],
      "metadata": {
        "id": "_Ue1ZauBglut"
      },
      "execution_count": 5,
      "outputs": []
    },
    {
      "cell_type": "code",
      "source": [
        "# Define initial conditions and number of steps\n",
        "t0 = 0\n",
        "tf = 0.5\n",
        "N  = 50\n",
        "# Solve the ODE\n",
        "solver_drag = rk4_drag(drag,t0,tf, N)"
      ],
      "metadata": {
        "id": "MivsSIbxiQAH"
      },
      "execution_count": 6,
      "outputs": []
    },
    {
      "cell_type": "code",
      "source": [
        "# Plot the solution\n",
        "plt.figure(figsize=(10,6))\n",
        "plt.plot(solver_drag[0],solver_drag[1],':bo' , linewidth=3.0,label=r'4th order Runge-Kutta')\n",
        "plt.ylabel(r'Dimensionless position, $y(t)$')\n",
        "plt.xlabel(r'Dimensionless time, $t$')\n",
        "plt.title(r'Stepsize, $N$ = %i' % 50)\n",
        "plt.legend(loc=4)\n",
        "plt.show()"
      ],
      "metadata": {
        "colab": {
          "base_uri": "https://localhost:8080/",
          "height": 569
        },
        "id": "Wuhi6EBUiZt-",
        "outputId": "966ddb7f-1a56-4a30-a316-3598468e863f"
      },
      "execution_count": 7,
      "outputs": [
        {
          "output_type": "display_data",
          "data": {
            "text/plain": [
              "<Figure size 1000x600 with 1 Axes>"
            ],
            "image/png": "[encoded data removed]"
          },
          "metadata": {}
        }
      ]
    },
    {
      "cell_type": "code",
      "execution_count": 8,
      "metadata": {
        "id": "R466ArH78cHr"
      },
      "outputs": [],
      "source": [
        "# # Runge-Kutta Implementation\n",
        "# # Define initial conditions\n",
        "# t0 = 0\n",
        "# tN = 10.0\n",
        "# N = 15\n",
        "# t = np.linspace(t0, tN, N)\n",
        "# h = (tN-t0)/N\n",
        "# x_4RK = np.zeros(N)\n",
        "\n",
        "# # Source function f(x,t)\n",
        "# def f2(x_,t_):\n",
        "#   return np.cos(x_) + np.sin(t_)\n",
        "\n",
        "\n",
        "# # Actual implementation\n",
        "# for n in range(1,N):\n",
        "#   k1 = h*f(x_4RK[n-1]       , t[n-1]      )\n",
        "#   k2 = h*f(x_4RK[n-1] + k1/2, t[n-1] + h/2)\n",
        "#   k3 = h*f(x_4RK[n-1] + k2/2, t[n-1] + h/2)\n",
        "#   k4 = h*f(x_4RK[n-1] + k3  , t[n-1] + h  )\n",
        "\n",
        "#   x_4RK[n] = x_4RK[n-1] + (k1 + 2*k2 + 2*k3 + k4)/6"
      ]
    },
    {
      "cell_type": "code",
      "source": [
        "# plt.figure(figsize=(10,6))\n",
        "# plt.plot(t,x_4RK,':bo' , linewidth=3.0,label=r'4th order Runge-Kutta')\n",
        "# plt.ylabel(r'Dimensionless position, $x(t)$')\n",
        "# plt.xlabel(r'Dimensionless time, $t$')\n",
        "# plt.title(r'Stepsize, $N$ = %i' % N)\n",
        "# plt.legend(loc=4)\n",
        "# plt.show()"
      ],
      "metadata": {
        "id": "pBxuSK4gbSk4"
      },
      "execution_count": 9,
      "outputs": []
    },
    {
      "cell_type": "code",
      "source": [],
      "metadata": {
        "id": "0823Gr8veTHS"
      },
      "execution_count": 9,
      "outputs": []
    },
    {
      "cell_type": "code",
      "source": [
        "# # Source function f(x,t)\n",
        "# def g(x_):\n",
        "#   return np.cos(x_)\n",
        "\n",
        "# # Actual implementation\n",
        "# for n in range(1,N):\n",
        "#   k1 = h*g(x_4RK[n-1])\n",
        "#   k2 = h*g(x_4RK[n-1] + k1/2)\n",
        "#   k3 = h*g(x_4RK[n-1] + k2/2)\n",
        "#   k4 = h*g(x_4RK[n-1] + k3  )\n",
        "\n",
        "#   x_4RK[n] = x_4RK[n-1] + (k1 + 2*k2 + 2*k3 + k4)/6"
      ],
      "metadata": {
        "id": "0jBNe-Y5bSvy"
      },
      "execution_count": 10,
      "outputs": []
    },
    {
      "cell_type": "code",
      "source": [],
      "metadata": {
        "id": "EvViFIj4bS6k"
      },
      "execution_count": 10,
      "outputs": []
    },
    {
      "cell_type": "code",
      "source": [],
      "metadata": {
        "id": "RwsXrfHwbTE3"
      },
      "execution_count": 10,
      "outputs": []
    },
    {
      "cell_type": "code",
      "source": [],
      "metadata": {
        "id": "5jLQCoOEbTOS"
      },
      "execution_count": 10,
      "outputs": []
    },
    {
      "cell_type": "code",
      "source": [],
      "metadata": {
        "id": "5Wi8Y4drbTYA"
      },
      "execution_count": 10,
      "outputs": []
    }
  ]
}